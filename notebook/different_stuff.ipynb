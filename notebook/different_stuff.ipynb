{
 "cells": [
  {
   "cell_type": "code",
   "execution_count": 1,
   "metadata": {},
   "outputs": [
    {
     "name": "stdout",
     "output_type": "stream",
     "text": [
      "Hello\n"
     ]
    }
   ],
   "source": [
    "print(\"Hello\")"
   ]
  },
  {
   "cell_type": "code",
   "execution_count": 5,
   "metadata": {},
   "outputs": [],
   "source": [
    "import numpy\n",
    "import cohere\n",
    "import redis \n",
    "\n",
    "from redis import Redis\n",
    "from redis.commands.search.field import VectorField\n",
    "from redis.commands.search.field import TextField\n",
    "from redis.commands.search.field import TagField\n",
    "from redis.commands.search.query import Query\n",
    "from redis.commands.search.result import Result\n",
    "\n",
    "import lxml"
   ]
  },
  {
   "cell_type": "code",
   "execution_count": null,
   "metadata": {},
   "outputs": [],
   "source": [
    "import cohere\n",
    "from redis import Redis \n",
    "\n",
    "vector_field_name = 'encoded_text_block'\n",
    "\n",
    "# Connect to Cohere API\n",
    "cohere_client = cohere.Client(\"g4DkrTsekiIckvuuqKcKRguDVkHQLbHN03VlD2r9\")\n",
    "\n",
    "# Set up Redis connect\n",
    "redis_conn = Redis( host = 'redis-13894.c300.eu-central-1-1.ec2.cloud.redislabs.com', \n",
    "                    port=13894, \n",
    "                    password='LCpWGSMAwsi00jOj2iCVVouXBvOcn008')\n",
    "\n",
    "# Function to encode blocks using Cohere\n",
    "def encode_blocks(blocks):\n",
    "    return cohere_client.embed(texts=blocks,  model='small', truncate='LEFT').embeddings\n",
    "\n",
    "\n",
    "# Function to save encoded blocks into Redis\n",
    "def save_into_redis(client:Redis, colection_id: str, documents: list, vector_field_name: str):    \n",
    "    p = client.pipeline(transaction=False)\n",
    "    for document in documents:   \n",
    "        blocks = split_into_blocks(document['render'])\n",
    "        encoded_blocks = encode_blocks(blocks)\n",
    "        for i in range(len(encoded_blocks)):\n",
    "            #hash key\n",
    "            key = f\"{colection_id}:{document['path']}:{str(i)}\"\n",
    "        \n",
    "            #hash values\n",
    "            document_metadata = {}\n",
    "            document_metadata['encoded_text_block'] = np.array(encoded_blocks[i]).astype(np.float32).tobytes()\n",
    "            # HSET\n",
    "            p.hset(key, mapping=document_metadata)\n",
    "            #p.set(key, np.array(encoded_blocks[i]).astype(np.float32).tobytes())\n",
    "            \n",
    "    p.execute()\n",
    "\n",
    "save_into_redis( redis_conn, \"Collection_1\", list_of_dicts, vector_field_name)\n",
    "\n",
    "import struct\n",
    "\n",
    "#redis_conn\n",
    "# get all keys\n",
    "keys = redis_conn.keys('*')\n",
    "print(keys[0])\n",
    "\n",
    "# get a value of a key\n",
    "value = redis_conn.get('Collection_1:daily-journaling-app:34')\n",
    "print(value)\n",
    "# calculate the number of 4-byte floats in the data\n",
    "num_floats = len(value) // 4\n",
    "\n",
    "# construct the format string\n",
    "format_str = 'f' * num_floats\n",
    "\n",
    "values = struct.unpack(format_str, value)\n",
    "\n",
    "print(values)\n",
    "\n",
    "def create_flat_index (redis_conn, vector_field_name, number_of_vectors, vector_dimensions=1024, distance_metric='L2'):\n",
    "    redis_conn.ft().create_index([\n",
    "        VectorField(vector_field_name, \"FLAT\", {\"TYPE\": \"FLOAT32\", \"DIM\": vector_dimensions, \"DISTANCE_METRIC\": distance_metric, \"INITIAL_CAP\": number_of_vectors, \"BLOCK_SIZE\":number_of_vectors }),\n",
    "        TagField(\"product_type\"),\n",
    "        TextField(\"item_name\"),\n",
    "        TextField(\"item_keywords\"),\n",
    "        TagField(\"country\")        \n",
    "    ])\n",
    "\n",
    "ITEM_KEYWORD_EMBEDDING_FIELD='item_keyword_vector'\n",
    "TEXT_EMBEDDING_DIMENSION=768\n",
    "NUMBER_PRODUCTS=1000\n",
    "\n",
    "#create flat index & load vectors\n",
    "create_flat_index(redis_conn, ITEM_KEYWORD_EMBEDDING_FIELD, NUMBER_PRODUCTS, TEXT_EMBEDDING_DIMENSION,'COSINE')"
   ]
  }
 ],
 "metadata": {
  "kernelspec": {
   "display_name": "poetry",
   "language": "python",
   "name": "python3"
  },
  "language_info": {
   "codemirror_mode": {
    "name": "ipython",
    "version": 3
   },
   "file_extension": ".py",
   "mimetype": "text/x-python",
   "name": "python",
   "nbconvert_exporter": "python",
   "pygments_lexer": "ipython3",
   "version": "3.10.11"
  },
  "orig_nbformat": 4
 },
 "nbformat": 4,
 "nbformat_minor": 2
}
