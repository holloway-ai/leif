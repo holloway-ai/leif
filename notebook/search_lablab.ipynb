{
 "cells": [
  {
   "cell_type": "code",
   "execution_count": 1,
   "metadata": {},
   "outputs": [
    {
     "name": "stderr",
     "output_type": "stream",
     "text": [
      "/workspaces/leif/app/core/config.py:45: UserWarning: directory \"secrets\" does not exist\n",
      "  settings = Settings()\n"
     ]
    }
   ],
   "source": [
    "%load_ext autoreload\n",
    "%autoreload 2\n",
    "\n",
    "from gzip import GzipFile\n",
    "import json\n",
    "import os\n",
    "import urllib\n",
    "os.environ[\"TEST_SECRET\"] = \"setIt\"\n",
    "from app.main import app\n",
    "from starlette.testclient import TestClient\n",
    "from app.schemas import Collection, Document\n",
    "import time\n",
    "\n",
    "from IPython.display import display, Markdown\n",
    "def short_print(text):\n",
    "    display(Markdown(text+'\\n'))\n",
    "\n"
   ]
  },
  {
   "cell_type": "code",
   "execution_count": 2,
   "metadata": {},
   "outputs": [
    {
     "data": {
      "text/plain": [
       "{'id': '4923644474f8835efa9c520bb58971746e27bdc6',\n",
       " 'path': 'home/test',\n",
       " 'locale': 'en',\n",
       " 'title': 'Test',\n",
       " 'description': '',\n",
       " 'render': '<h1 class=\"toc-header\" id=\"tets\"><a href=\"#tets\" class=\"toc-anchor\">¶</a> Tets</h1>\\n<video controls=\"true\" id=\"presentationVideo\">\\n<source src=\"https://storage.googleapis.com/lablab-video-submissions/clect7lts0000356kwijsh28b%2Fraw%2Fsubmission-video-x-clect7lts0000356kwijsh28b-clf16992i03d72v6jdn152y2v.mp4\" type=\"video/mp4\">\\n</video>\\n<p></p>\\n<p><span data-start=\"0\" data-end=\"6.52\">Hi everyone, today representing Logos, your personal knowledge base assistant. </span></p>\\n<h2 class=\"toc-header\" id=\"what-is-a-knowledge-base\"><a href=\"#what-is-a-knowledge-base\" class=\"toc-anchor\">¶</a> What is a knowledge base?</h2>\\n<p><span data-start=\"6.52\" data-end=\"7.72\">What\\'s someone\\'s knowledge base? </span><span data-start=\"7.72\" data-end=\"12.44\">It is often said that we are what we read, and this is true, but we are also what we </span><span data-start=\"12.44\" data-end=\"15.92\">watch, what we listen to, and converse about. </span><span data-start=\"15.92\" data-end=\"20.2\">And all that complexity of inputs shape our current ways of thinking and behaving. </span><span data-start=\"20.2\" data-end=\"25.16\">We want to help people integrate and vary all that information in more efficient ways. </span></p>\\n<p><span data-start=\"25.16\" data-end=\"28.2\">Have you ever thought to yourself something along those lines? </span><span data-start=\"28.2\" data-end=\"31.36\">What was that interesting book I read about Bonobos again? </span><span data-start=\"31.36\" data-end=\"35.16\">This podcast discussion reminds me of Schumpeter\\'s arguments on technology. </span><span data-start=\"35.16\" data-end=\"37.76\">I would like to summarize and compare them. </span><span data-start=\"37.76\" data-end=\"42.84\">I wanted to list the main topics throughout all online articles and YouTube videos I watched </span><span data-start=\"42.84\" data-end=\"45.48\">about Thailand in the past year. </span><span data-start=\"45.48\" data-end=\"49.8\">If you ever had similar thoughts and needs, Logos is here to assist you. </span></p>\\n<h2 class=\"toc-header\" id=\"logos-capabilities\"><a href=\"#logos-capabilities\" class=\"toc-anchor\">¶</a> Logos\\' capabilities</h2>\\n<p><span data-start=\"49.8\" data-end=\"53.2\">Let\\'s take a look at a sample of what Logos can do. </span><span data-start=\"53.2\" data-end=\"57.64\">Let\\'s start by adding Memórias Pós-Sumas de Parasculpas, a classic of Brazilian literature </span><span data-start=\"57.64\" data-end=\"61.68\">to our knowledge base. </span><span data-start=\"61.68\" data-end=\"67.4\">In Logos, users can add their documents and have its metadata automatically retrieved. </span></p>\\n<p><span data-start=\"67.4\" data-end=\"69.64\">We can then ask questions about this book. </span><span data-start=\"69.64\" data-end=\"77.36\">For example, what were Parasculpa\\'s thoughts about having children? </span><span data-start=\"77.36\" data-end=\"82.32\">Logos will gather all the relevant excerpts and form a concise answer to your question. </span><span data-start=\"82.32\" data-end=\"87.92\">It will also list for you all the excerpts used for reference. </span><span data-start=\"87.92\" data-end=\"91.8\">Note how we are searching and getting answers in English for a text written exclusively </span><span data-start=\"91.8\" data-end=\"94.48\">in Portuguese. </span></p>\\n<p><span data-start=\"94.48\" data-end=\"99.76\">Users can also make use of expert agents, which will help you tackle more complex questions. </span><span data-start=\"99.76\" data-end=\"105.16\">For example, here I\\'m asking, this time in Portuguese, what Alessandro Aousaix, which </span><span data-start=\"105.16\" data-end=\"110\">is a Brazilian songwriter, thought about life, and ask Logos to go beyond and compare his </span><span data-start=\"110\" data-end=\"115.04\">ideas with Henri David Thoreau and Albert Camus, two philosophers who wrote in English </span><span data-start=\"115.04\" data-end=\"117.96\">and French. </span><span data-start=\"117.96\" data-end=\"122.2\">We can then follow the step-by-step thought process of the expert agent, while it goes </span><span data-start=\"122.2\" data-end=\"145.48\">assembling information for the final answer. </span><span data-start=\"145.48\" data-end=\"150.44\">Since I asked in Portuguese, I got my answer also in Portuguese, even though the texts </span><span data-start=\"150.44\" data-end=\"151.44\">were multilingual. </span><span data-start=\"151.44\" data-end=\"157.08\">Here again, we can see the multilanguage capabilities of Logos in action. </span></p>\\n<p></p>\\n'}"
      ]
     },
     "execution_count": 2,
     "metadata": {},
     "output_type": "execute_result"
    }
   ],
   "source": [
    "LABLAB_DATA_PATH = \"../data/lablab_2023_06.json.gz\"\n",
    "with GzipFile(LABLAB_DATA_PATH) as data_file:\n",
    "    lablab_data = json.load(data_file)\n",
    "lablab_data[0]   "
   ]
  },
  {
   "cell_type": "code",
   "execution_count": 3,
   "metadata": {},
   "outputs": [],
   "source": [
    "limit_docs = 150\n",
    "batch = 10\n",
    "recreate_index = True\n",
    "collection_name = f'lablab_collection'\n",
    "client = TestClient(app)\n",
    "collections = client.get(\"api/v1/collections/\").json() "
   ]
  },
  {
   "cell_type": "code",
   "execution_count": 4,
   "metadata": {},
   "outputs": [
    {
     "name": "stdout",
     "output_type": "stream",
     "text": [
      "Got 5 result on query\n",
      "Change refs to docs\n",
      "Got 5 result on query\n",
      "Got answer on :1. Who are some famous historical figures that people might want to talk to?\n",
      "Got 5 result on query\n",
      "Got answer on :2. How can I have conversations with historical figures?\n",
      "Got 5 result on query\n",
      "Got answer on :3. Are there any virtual platforms or apps that facilitate conversations with historical figures?\n",
      "Got 7 unique references on questions\n",
      "Change refs to docs\n",
      "Got results for change_doc_numbers, title='Loqui' path='users/lablab/events/openai-hackathon/loqui-interactive-learning' text_blocks=[\"LockWii is an app where students can have a conversation. with the historical figures they use to study in books.. And this is how it works.. LockWii has two types of users, teacher and student.. Teachers can manage and create new characters.. By creating new characters, they can choose a vocabulary, a tone of voice,. to make the characters suit to all type of levels and all type of students.. By uploading a PDF bibliography, they can provide the characters. with all the information it needs to carry out the lessons.. At the end, they can share the characters with the class.. When students enter in LockWii, they can choose the characters they want to interview. and start chatting with them or her.. Hi, I'm Julius Caesar.. \"]\n"
     ]
    }
   ],
   "source": [
    "response = client.get(f\"api/v1/search/{collection_name}/?query=Talk to a historical person\")\n",
    "result  = response.json()\n"
   ]
  },
  {
   "cell_type": "code",
   "execution_count": 5,
   "metadata": {},
   "outputs": [],
   "source": [
    "QAs = result['qnas']\n",
    "qnas_results = result['qnas_results']\n",
    "query_results = result['query_results']\n"
   ]
  },
  {
   "cell_type": "code",
   "execution_count": 6,
   "metadata": {},
   "outputs": [
    {
     "data": {
      "text/plain": [
       "[{'title': 'Loqui',\n",
       "  'path': 'users/lablab/events/openai-hackathon/loqui-interactive-learning',\n",
       "  'text_blocks': [\"LockWii is an app where students can have a conversation. with the historical figures they use to study in books.. And this is how it works.. LockWii has two types of users, teacher and student.. Teachers can manage and create new characters.. By creating new characters, they can choose a vocabulary, a tone of voice,. to make the characters suit to all type of levels and all type of students.. By uploading a PDF bibliography, they can provide the characters. with all the information it needs to carry out the lessons.. At the end, they can share the characters with the class.. When students enter in LockWii, they can choose the characters they want to interview. and start chatting with them or her.. Hi, I'm Julius Caesar.. \"]},\n",
       " {'title': 'Orpheus AI',\n",
       "  'path': 'users/lablab/events/openai-hackathon/orpheus-ai',\n",
       "  'text_blocks': [\"Demo So time for a demo..As you can see here, we have our landing page..A little bit about the product, the features and benefits, how it works, and a fact section,.which we will continue to improve on and develop as we gather user experience and feedback..So from here, you can click any of the start chatting buttons and it will take you to the.sign in screen where you can decide who do you want to talk to..In this case, we have Marcus Aurelius, Albert Einstein, Aristotle, and Mahatma Gandhi, but.we hope to expand these figures in the future and continue to add new options for a more.diverse set that users could choose from..In this case, I'll just talk to Marcus Aurelius..So I'm already signed in, but normally there's a sign in process where you have the option.to sign in to Google, Facebook, or Twitter, as I've described..So here are some past questions I've asked Marcus Aurelius, but let's chat with him a.little bit about something different..Let's say, how can I better deal with stress?.\",\n",
       "   \"The Problem Many people struggle with personal issues such as anxiety, depression and relationship. problems but they feel ashamed or reluctant to seek therapy or other forms of help.. Stigma surrounding mental health and cultural expectations can prevent individuals from. seeking the support that they need.. Only about 41% of adults with a mental health condition received any type of treatment in. the past year.. Approximately 75% of adults report experiencing moderate to high levels of stress in the past. month.. Clearly there is a gap.. One possible solution is AI-powered conversations with history's greatest minds.. What else could be more engaging and thought-provoking than a conversation with Albert Einstein or. Marcus Aurelius or Mahatma Gandhi?. Orpheus AI offers an entertaining and novel approach to explore our deepest questions. about life, providing a personalized path for personal growth.. \",\n",
       "   \"Take tranquility within, for it is the source of strength, seek purpose in life, for it.will provide guidance, cultivate simplicity and moderation in all things..It's very in character for Marcus..So it's fun..It's almost like an RPG feel, like you're speaking to a character in a game..But there's also a little bit of authority behind the figure because Marcus Aurelius.is a very famous philosopher who has written a lot of content on stoicism and life, and.users can feel comfortable to come on here and get real life advice from this famous.figure..Let's switch things up..Here at the top, we have another dropdown menu for users if they'd like to change who.they're talking to..So let's go to Albert Einstein now..Say I want to ask Albert Einstein, how can I become better at studying?.See, do you have any specific exercises I can use to be better at studying?.So, of course, these responses can always be tuned and improved..\"]},\n",
       " {'title': 'Hello History',\n",
       "  'path': 'users/lablab/events/openai-hackathon/hello-history',\n",
       "  'text_blocks': [\"Introduction Hi there, my name is Martin and I want to tell you about HelloHistory..We've developed a product that lets you learn from history's greatest minds, or AI-generated.versions of them..And with HelloHistory, we're making education more engaging than ever..AI is now creating an opportunity to offer immersive, human-like experiences at a fraction.of the cost..The problem today is that passive learning is much less effective than active learning..In today's environment, kids are finding it increasingly difficult to spend their attention.on reading books, and few can afford personal tutors..This is why teachers are looking for novel solutions to engage their students in their.curriculum..And today, if you want to learn about history, you're most likely going to pick up a book.or watch a video..But as discussed before, this is much less effective for retaining information compared.to active learning..And chatbots are also starting to pop up, like Character AI and Historical Figures chat..\",\n",
       "   \"But these are not specialized for education, and have severe limitations in factual accuracy..We're taking this further with HelloHistory..We're going beyond text outputs, and offering our users the ability to have live conversations.with AI-generated animated avatars..We're also making the responses more factual by using validated information and embeddings..Already today, teachers are using the app in their classroom, and the applications of.this technology go far beyond this example..And in fact, we're now in discussions with one of the largest textbook publishers that.want to implement our technology into their digital textbooks..\",\n",
       "   \"App Demo And here's Stas with a demo of the app..Kick back, and I hope you enjoy..Hey there..This is a product demo from Hello History..Within our app, you can chat with historical figures..And we're making this experience even better..We have developed video responses from the historical figures..So let's see how it works..Hello, it's wonderful to be here and have the opportunity to speak with you today..What questions do you have for me?.So I asked a question about flatness of the Earth..Let's see what the AI answered..No, none of the provided research papers support the idea of a flat Earth..In fact, the research papers provide evidence that contradicts the idea of a flat Earth..References, Sterzic et al..The cloud bow of planet Earth observed in polarization..Astronomy and astrophysics 581,.2015..A122..So let's ask something else, and I'll tell you how it works..So how are people trying to detect dark matter?.So we take this question, we run it through GTP3 and RADIUS database of scientific papers..\"]}]"
      ]
     },
     "execution_count": 6,
     "metadata": {},
     "output_type": "execute_result"
    }
   ],
   "source": [
    "qnas_results"
   ]
  },
  {
   "cell_type": "code",
   "execution_count": 7,
   "metadata": {},
   "outputs": [
    {
     "data": {
      "text/plain": [
       "[{'title': 'OpenAI Stack Hack',\n",
       "  'path': 'users/lablab/events/openai-hackathon',\n",
       "  'text_blocks': ['by Hello History. ']},\n",
       " {'title': 'Orpheus AI',\n",
       "  'path': 'users/lablab/events/openai-hackathon/orpheus-ai',\n",
       "  'text_blocks': [\"Demo So time for a demo..As you can see here, we have our landing page..A little bit about the product, the features and benefits, how it works, and a fact section,.which we will continue to improve on and develop as we gather user experience and feedback..So from here, you can click any of the start chatting buttons and it will take you to the.sign in screen where you can decide who do you want to talk to..In this case, we have Marcus Aurelius, Albert Einstein, Aristotle, and Mahatma Gandhi, but.we hope to expand these figures in the future and continue to add new options for a more.diverse set that users could choose from..In this case, I'll just talk to Marcus Aurelius..So I'm already signed in, but normally there's a sign in process where you have the option.to sign in to Google, Facebook, or Twitter, as I've described..So here are some past questions I've asked Marcus Aurelius, but let's chat with him a.little bit about something different..Let's say, how can I better deal with stress?.\"]},\n",
       " {'title': 'Hello History',\n",
       "  'path': 'users/lablab/events/openai-hackathon/hello-history',\n",
       "  'text_blocks': [\"Introduction Hi there, my name is Martin and I want to tell you about HelloHistory..We've developed a product that lets you learn from history's greatest minds, or AI-generated.versions of them..And with HelloHistory, we're making education more engaging than ever..AI is now creating an opportunity to offer immersive, human-like experiences at a fraction.of the cost..The problem today is that passive learning is much less effective than active learning..In today's environment, kids are finding it increasingly difficult to spend their attention.on reading books, and few can afford personal tutors..This is why teachers are looking for novel solutions to engage their students in their.curriculum..And today, if you want to learn about history, you're most likely going to pick up a book.or watch a video..But as discussed before, this is much less effective for retaining information compared.to active learning..And chatbots are also starting to pop up, like Character AI and Historical Figures chat..\",\n",
       "   \"App Demo And here's Stas with a demo of the app..Kick back, and I hope you enjoy..Hey there..This is a product demo from Hello History..Within our app, you can chat with historical figures..And we're making this experience even better..We have developed video responses from the historical figures..So let's see how it works..Hello, it's wonderful to be here and have the opportunity to speak with you today..What questions do you have for me?.So I asked a question about flatness of the Earth..Let's see what the AI answered..No, none of the provided research papers support the idea of a flat Earth..In fact, the research papers provide evidence that contradicts the idea of a flat Earth..References, Sterzic et al..The cloud bow of planet Earth observed in polarization..Astronomy and astrophysics 581,.2015..A122..So let's ask something else, and I'll tell you how it works..So how are people trying to detect dark matter?.So we take this question, we run it through GTP3 and RADIUS database of scientific papers..\"]},\n",
       " {'title': 'Loqui',\n",
       "  'path': 'users/lablab/events/openai-hackathon/loqui-interactive-learning',\n",
       "  'text_blocks': [\"LockWii is an app where students can have a conversation. with the historical figures they use to study in books.. And this is how it works.. LockWii has two types of users, teacher and student.. Teachers can manage and create new characters.. By creating new characters, they can choose a vocabulary, a tone of voice,. to make the characters suit to all type of levels and all type of students.. By uploading a PDF bibliography, they can provide the characters. with all the information it needs to carry out the lessons.. At the end, they can share the characters with the class.. When students enter in LockWii, they can choose the characters they want to interview. and start chatting with them or her.. Hi, I'm Julius Caesar.. \"]}]"
      ]
     },
     "execution_count": 7,
     "metadata": {},
     "output_type": "execute_result"
    }
   ],
   "source": [
    "query_results"
   ]
  },
  {
   "cell_type": "code",
   "execution_count": 9,
   "metadata": {},
   "outputs": [
    {
     "data": {
      "text/markdown": [
       "1. Who are some famous historical figures that people might want to talk to?\n"
      ],
      "text/plain": [
       "<IPython.core.display.Markdown object>"
      ]
     },
     "metadata": {},
     "output_type": "display_data"
    },
    {
     "data": {
      "text/markdown": [
       "Some famous historical figures that people might want to talk to are Marcus Aurelius, Albert Einstein, Aristotle, and Mahatma Gandhi [2]. These figures are available for conversation in the LockWii app [2]. Users can have AI-powered conversations with these historical figures on the Orpheus AI platform [2].\n"
      ],
      "text/plain": [
       "<IPython.core.display.Markdown object>"
      ]
     },
     "metadata": {},
     "output_type": "display_data"
    },
    {
     "data": {
      "text/markdown": [
       "users/lablab/events/openai-hackathon/orpheus-ai#demo#0 users/lablab/events/openai-hackathon/loqui-interactive-learning#5#0 users/lablab/events/openai-hackathon/orpheus-ai#the-problem#0 users/lablab/events/openai-hackathon/orpheus-ai#demo#1 users/lablab/events/openai-hackathon/hello-history#introduction#0\n"
      ],
      "text/plain": [
       "<IPython.core.display.Markdown object>"
      ]
     },
     "metadata": {},
     "output_type": "display_data"
    },
    {
     "data": {
      "text/markdown": [
       "2. How can I have conversations with historical figures?\n"
      ],
      "text/plain": [
       "<IPython.core.display.Markdown object>"
      ]
     },
     "metadata": {},
     "output_type": "display_data"
    },
    {
     "data": {
      "text/markdown": [
       "To have conversations with historical figures, you can use the LockWii app [1]. The app allows students to choose historical figures they want to interview and start chatting with them [1]. Another option is the Orpheus AI app, which offers AI-powered conversations with history's greatest minds [2]. HelloHistory is another product that allows you to learn from AI-generated versions of historical figures [3]. These platforms provide an engaging and interactive way to learn from historical figures and ask them questions.\n"
      ],
      "text/plain": [
       "<IPython.core.display.Markdown object>"
      ]
     },
     "metadata": {},
     "output_type": "display_data"
    },
    {
     "data": {
      "text/markdown": [
       "users/lablab/events/openai-hackathon/loqui-interactive-learning#5#0 users/lablab/events/openai-hackathon/orpheus-ai#demo#0 users/lablab/events/openai-hackathon/orpheus-ai#demo#1 users/lablab/events/openai-hackathon/orpheus-ai#the-problem#0 users/lablab/events/openai-hackathon/hello-history#introduction#0\n"
      ],
      "text/plain": [
       "<IPython.core.display.Markdown object>"
      ]
     },
     "metadata": {},
     "output_type": "display_data"
    },
    {
     "data": {
      "text/markdown": [
       "3. Are there any virtual platforms or apps that facilitate conversations with historical figures?\n"
      ],
      "text/plain": [
       "<IPython.core.display.Markdown object>"
      ]
     },
     "metadata": {},
     "output_type": "display_data"
    },
    {
     "data": {
      "text/markdown": [
       "Yes, there are virtual platforms and apps that facilitate conversations with historical figures. Examples include LockWii [2], HelloHistory [3], and Hello History app [3]. These platforms and apps allow users to chat with historical figures and have conversations with them.\n"
      ],
      "text/plain": [
       "<IPython.core.display.Markdown object>"
      ]
     },
     "metadata": {},
     "output_type": "display_data"
    },
    {
     "data": {
      "text/markdown": [
       "users/lablab/events/openai-hackathon/orpheus-ai#demo#0 users/lablab/events/openai-hackathon/loqui-interactive-learning#5#0 users/lablab/events/openai-hackathon/hello-history#introduction#1 users/lablab/events/openai-hackathon/hello-history#app-demo#0 users/lablab/events/openai-hackathon/hello-history#introduction#0\n"
      ],
      "text/plain": [
       "<IPython.core.display.Markdown object>"
      ]
     },
     "metadata": {},
     "output_type": "display_data"
    }
   ],
   "source": [
    "for qna in QAs:\n",
    "    short_print(qna['question'])\n",
    "    short_print(qna['answer'])\n",
    "    short_print(qna['links'])"
   ]
  },
  {
   "cell_type": "code",
   "execution_count": null,
   "metadata": {},
   "outputs": [],
   "source": []
  },
  {
   "cell_type": "code",
   "execution_count": 8,
   "metadata": {},
   "outputs": [
    {
     "name": "stdout",
     "output_type": "stream",
     "text": [
      "already have lablab_collection\n",
      "upload lablab_collection\n"
     ]
    }
   ],
   "source": [
    "already_created = collection_name in collections\n",
    "if already_created:\n",
    "        print (f\"already have {collection_name}\")\n",
    "if recreate_index or not already_created:\n",
    "    if already_created:\n",
    "        client.delete(f\"api/v1/collections/{collection_name}/\")\n",
    "    print(f\"upload {collection_name}\")a\n",
    "    new_collection = Collection(name=collection_name, description=collection_name)\n",
    "    assert client.post(\"api/v1/collections/\", json=new_collection.dict()).status_code == 200\n",
    "    for i in range(0,limit_docs,batch):\n",
    "        assert client.post(f\"api/v1/documents/{collection_name}/\", json = lablab_data[i:min(i+batch,limit_docs)]).status_code == 200\n",
    "        time.sleep(20)\n",
    "        "
   ]
  },
  {
   "cell_type": "code",
   "execution_count": null,
   "metadata": {},
   "outputs": [],
   "source": []
  }
 ],
 "metadata": {
  "kernelspec": {
   "display_name": "poetry",
   "language": "python",
   "name": "python3"
  },
  "language_info": {
   "codemirror_mode": {
    "name": "ipython",
    "version": 3
   },
   "file_extension": ".py",
   "mimetype": "text/x-python",
   "name": "python",
   "nbconvert_exporter": "python",
   "pygments_lexer": "ipython3",
   "version": "3.10.12"
  },
  "orig_nbformat": 4
 },
 "nbformat": 4,
 "nbformat_minor": 2
}
